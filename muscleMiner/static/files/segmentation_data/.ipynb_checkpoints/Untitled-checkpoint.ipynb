{
 "cells": [
  {
   "cell_type": "code",
   "execution_count": 73,
   "metadata": {
    "collapsed": false
   },
   "outputs": [
    {
     "name": "stdout",
     "output_type": "stream",
     "text": [
      "img_mask3_contours.json\n",
      "9600\n",
      "7906\n",
      "finished !\n"
     ]
    }
   ],
   "source": [
    "import cv2\n",
    "import json, io\n",
    "\n",
    "## change1: json_path\n",
    "\n",
    "json_path = 'img_mask3_contours.json'\n",
    "print json_path\n",
    "with open(json_path) as json_data:\n",
    "    res = json.load(json_data)\n",
    "\n",
    "delete_list = []\n",
    "save_list = []\n",
    "length = len(res['contours'])\n",
    "\n",
    "## change2: if statement\n",
    "\n",
    "for index, key in enumerate(res['contours']):\n",
    "    for coord in key['points']:\n",
    "        if coord['x'] < 1000 or coord['x'] > 2500 or coord['y'] > 2500 or coord['y'] < 1000:\n",
    "            delete_list.append(index)\n",
    "            break\n",
    "print len(delete_list)\n",
    "\n",
    "for i in range(length):\n",
    "    if i not in delete_list:\n",
    "        save_list.append(i)\n",
    "\n",
    "res['contours'] = [res['contours'][x] for x in save_list if res['contours'][x]] ## list comprehension\n",
    "\n",
    "# change3: coords\n",
    "for index, key in enumerate(res['contours']):\n",
    "    for coord in key['points']:\n",
    "        coord['x'] -= 1000\n",
    "        coord['y'] -= 1000\n",
    "\n",
    "# change4: save name\n",
    "with open('img_mask3_1_contours.json', 'w') as newjson:\n",
    "    json.dump(res, newjson, indent=4)\n",
    "print 'finished !'\n"
   ]
  }
 ],
 "metadata": {
  "kernelspec": {
   "display_name": "Python 2",
   "language": "python",
   "name": "python2"
  },
  "language_info": {
   "codemirror_mode": {
    "name": "ipython",
    "version": 2
   },
   "file_extension": ".py",
   "mimetype": "text/x-python",
   "name": "python",
   "nbconvert_exporter": "python",
   "pygments_lexer": "ipython2",
   "version": "2.7.12"
  }
 },
 "nbformat": 4,
 "nbformat_minor": 2
}
