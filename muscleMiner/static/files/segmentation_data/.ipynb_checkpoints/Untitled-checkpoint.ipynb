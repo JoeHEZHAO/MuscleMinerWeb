{
 "cells": [
  {
   "cell_type": "code",
   "execution_count": null,
   "metadata": {
    "collapsed": false
   },
   "outputs": [],
   "source": [
    "import cv2\n",
    "im = cv2.imread('seg_bg.png')\n",
    "print im.shape\n",
    "\n",
    "for i in range(0,3917):\n",
    "    for j in range(0,4143):\n",
    "        for k in range(0,3):\n",
    "            if im[i,j,k] > 50:\n",
    "                im[i,j,k] = 255\n",
    "            else:\n",
    "                im[i,j,k] = 0\n",
    "cv2.imwrite('seg_bg_mask.png', im)\n"
   ]
  },
  {
   "cell_type": "code",
   "execution_count": null,
   "metadata": {
    "collapsed": false
   },
   "outputs": [],
   "source": []
  },
  {
   "cell_type": "code",
   "execution_count": null,
   "metadata": {
    "collapsed": true
   },
   "outputs": [],
   "source": []
  }
 ],
 "metadata": {
  "kernelspec": {
   "display_name": "Python 2",
   "language": "python",
   "name": "python2"
  },
  "language_info": {
   "codemirror_mode": {
    "name": "ipython",
    "version": 2
   },
   "file_extension": ".py",
   "mimetype": "text/x-python",
   "name": "python",
   "nbconvert_exporter": "python",
   "pygments_lexer": "ipython2",
   "version": "2.7.12"
  }
 },
 "nbformat": 4,
 "nbformat_minor": 2
}
